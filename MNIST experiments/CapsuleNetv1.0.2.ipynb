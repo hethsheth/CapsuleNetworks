{
  "nbformat": 4,
  "nbformat_minor": 0,
  "metadata": {
    "colab": {
      "name": "CapsuleNet.ipynb",
      "provenance": [],
      "collapsed_sections": [],
      "mount_file_id": "14lQ9d7YCqyXb7TtA6TZw1j0HuavoTtmh",
      "authorship_tag": "ABX9TyOefD69G3qONMdmVhhGmIPt",
      "include_colab_link": true
    },
    "kernelspec": {
      "name": "python3",
      "display_name": "Python 3"
    },
    "accelerator": "GPU"
  },
  "cells": [
    {
      "cell_type": "markdown",
      "metadata": {
        "id": "view-in-github",
        "colab_type": "text"
      },
      "source": [
        "<a href=\"https://colab.research.google.com/github/Utkarsh87/Capsule-Networks/blob/master/CapsuleNetv1.0.2.ipynb\" target=\"_parent\"><img src=\"https://colab.research.google.com/assets/colab-badge.svg\" alt=\"Open In Colab\"/></a>"
      ]
    },
    {
      "cell_type": "code",
      "metadata": {
        "id": "CEX2kaJLcsro",
        "colab_type": "code",
        "colab": {
          "base_uri": "https://localhost:8080/",
          "height": 290
        },
        "outputId": "726a4752-9ff1-428f-b088-beca1c839614"
      },
      "source": [
        "!pip install keras==2.2.4"
      ],
      "execution_count": 1,
      "outputs": [
        {
          "output_type": "stream",
          "text": [
            "Collecting keras==2.2.4\n",
            "\u001b[?25l  Downloading https://files.pythonhosted.org/packages/5e/10/aa32dad071ce52b5502266b5c659451cfd6ffcbf14e6c8c4f16c0ff5aaab/Keras-2.2.4-py2.py3-none-any.whl (312kB)\n",
            "\r\u001b[K     |█                               | 10kB 16.5MB/s eta 0:00:01\r\u001b[K     |██                              | 20kB 4.3MB/s eta 0:00:01\r\u001b[K     |███▏                            | 30kB 5.4MB/s eta 0:00:01\r\u001b[K     |████▏                           | 40kB 5.4MB/s eta 0:00:01\r\u001b[K     |█████▎                          | 51kB 4.9MB/s eta 0:00:01\r\u001b[K     |██████▎                         | 61kB 5.3MB/s eta 0:00:01\r\u001b[K     |███████▍                        | 71kB 5.8MB/s eta 0:00:01\r\u001b[K     |████████▍                       | 81kB 6.2MB/s eta 0:00:01\r\u001b[K     |█████████▍                      | 92kB 6.3MB/s eta 0:00:01\r\u001b[K     |██████████▌                     | 102kB 6.2MB/s eta 0:00:01\r\u001b[K     |███████████▌                    | 112kB 6.2MB/s eta 0:00:01\r\u001b[K     |████████████▋                   | 122kB 6.2MB/s eta 0:00:01\r\u001b[K     |█████████████▋                  | 133kB 6.2MB/s eta 0:00:01\r\u001b[K     |██████████████▊                 | 143kB 6.2MB/s eta 0:00:01\r\u001b[K     |███████████████▊                | 153kB 6.2MB/s eta 0:00:01\r\u001b[K     |████████████████▊               | 163kB 6.2MB/s eta 0:00:01\r\u001b[K     |█████████████████▉              | 174kB 6.2MB/s eta 0:00:01\r\u001b[K     |██████████████████▉             | 184kB 6.2MB/s eta 0:00:01\r\u001b[K     |████████████████████            | 194kB 6.2MB/s eta 0:00:01\r\u001b[K     |█████████████████████           | 204kB 6.2MB/s eta 0:00:01\r\u001b[K     |██████████████████████          | 215kB 6.2MB/s eta 0:00:01\r\u001b[K     |███████████████████████         | 225kB 6.2MB/s eta 0:00:01\r\u001b[K     |████████████████████████▏       | 235kB 6.2MB/s eta 0:00:01\r\u001b[K     |█████████████████████████▏      | 245kB 6.2MB/s eta 0:00:01\r\u001b[K     |██████████████████████████▏     | 256kB 6.2MB/s eta 0:00:01\r\u001b[K     |███████████████████████████▎    | 266kB 6.2MB/s eta 0:00:01\r\u001b[K     |████████████████████████████▎   | 276kB 6.2MB/s eta 0:00:01\r\u001b[K     |█████████████████████████████▍  | 286kB 6.2MB/s eta 0:00:01\r\u001b[K     |██████████████████████████████▍ | 296kB 6.2MB/s eta 0:00:01\r\u001b[K     |███████████████████████████████▌| 307kB 6.2MB/s eta 0:00:01\r\u001b[K     |████████████████████████████████| 317kB 6.2MB/s \n",
            "\u001b[?25hRequirement already satisfied: keras-applications>=1.0.6 in /usr/local/lib/python3.6/dist-packages (from keras==2.2.4) (1.0.8)\n",
            "Requirement already satisfied: h5py in /usr/local/lib/python3.6/dist-packages (from keras==2.2.4) (2.10.0)\n",
            "Requirement already satisfied: scipy>=0.14 in /usr/local/lib/python3.6/dist-packages (from keras==2.2.4) (1.4.1)\n",
            "Requirement already satisfied: six>=1.9.0 in /usr/local/lib/python3.6/dist-packages (from keras==2.2.4) (1.12.0)\n",
            "Requirement already satisfied: keras-preprocessing>=1.0.5 in /usr/local/lib/python3.6/dist-packages (from keras==2.2.4) (1.1.2)\n",
            "Requirement already satisfied: pyyaml in /usr/local/lib/python3.6/dist-packages (from keras==2.2.4) (3.13)\n",
            "Requirement already satisfied: numpy>=1.9.1 in /usr/local/lib/python3.6/dist-packages (from keras==2.2.4) (1.18.4)\n",
            "Installing collected packages: keras\n",
            "  Found existing installation: Keras 2.3.1\n",
            "    Uninstalling Keras-2.3.1:\n",
            "      Successfully uninstalled Keras-2.3.1\n",
            "Successfully installed keras-2.2.4\n"
          ],
          "name": "stdout"
        }
      ]
    },
    {
      "cell_type": "code",
      "metadata": {
        "id": "f0bnKR0EeZdc",
        "colab_type": "code",
        "outputId": "29cb67d3-a366-465f-c201-ebe55ec833bc",
        "colab": {
          "base_uri": "https://localhost:8080/",
          "height": 35
        }
      },
      "source": [
        "%tensorflow_version 1.x"
      ],
      "execution_count": 2,
      "outputs": [
        {
          "output_type": "stream",
          "text": [
            "TensorFlow 1.x selected.\n"
          ],
          "name": "stdout"
        }
      ]
    },
    {
      "cell_type": "code",
      "metadata": {
        "id": "MYv91Bz0UdDp",
        "colab_type": "code",
        "outputId": "54bb96db-6314-47ad-80b6-5ed444bc8a76",
        "colab": {
          "base_uri": "https://localhost:8080/",
          "height": 35
        }
      },
      "source": [
        "# Load the Drive helper and mount\n",
        "from google.colab import drive\n",
        "drive.mount('/content/drive')"
      ],
      "execution_count": 4,
      "outputs": [
        {
          "output_type": "stream",
          "text": [
            "Drive already mounted at /content/drive; to attempt to forcibly remount, call drive.mount(\"/content/drive\", force_remount=True).\n"
          ],
          "name": "stdout"
        }
      ]
    },
    {
      "cell_type": "markdown",
      "metadata": {
        "id": "em6anQzaYKNb",
        "colab_type": "text"
      },
      "source": [
        "# Imports"
      ]
    },
    {
      "cell_type": "code",
      "metadata": {
        "id": "n4OUHBc9d2bQ",
        "colab_type": "code",
        "outputId": "4916d507-b960-4798-e915-7d10b20cf2c8",
        "colab": {
          "base_uri": "https://localhost:8080/",
          "height": 53
        }
      },
      "source": [
        "import keras\n",
        "print(keras.__version__)\n",
        "import tensorflow\n",
        "print(tensorflow.__version__)"
      ],
      "execution_count": 5,
      "outputs": [
        {
          "output_type": "stream",
          "text": [
            "2.2.4\n",
            "1.15.2\n"
          ],
          "name": "stdout"
        }
      ]
    },
    {
      "cell_type": "code",
      "metadata": {
        "id": "RlVkq0X9eDat",
        "colab_type": "code",
        "colab": {}
      },
      "source": [
        "import numpy as np\n",
        "import os\n",
        "from keras import callbacks\n",
        "from keras.utils.vis_utils import plot_model\n",
        "\n",
        "import warnings \n",
        "warnings.filterwarnings('ignore')"
      ],
      "execution_count": 0,
      "outputs": []
    },
    {
      "cell_type": "markdown",
      "metadata": {
        "id": "FwRtBiaIn171",
        "colab_type": "text"
      },
      "source": [
        "# Layers in CapsNet"
      ]
    },
    {
      "cell_type": "markdown",
      "metadata": {
        "id": "QdfHLdORoI6y",
        "colab_type": "text"
      },
      "source": [
        "Define the key layers required to build any capsnet architecture"
      ]
    },
    {
      "cell_type": "code",
      "metadata": {
        "id": "VWo3ksAKeyEK",
        "colab_type": "code",
        "colab": {}
      },
      "source": [
        "import keras.backend as K\n",
        "import tensorflow as tf\n",
        "from keras import initializers, layers\n",
        "\n",
        "class Length(layers.Layer):\n",
        "    \"\"\"\n",
        "    Compute the length of vectors. This is used to compute a Tensor that has the same shape with y_true in margin_loss\n",
        "    inputs: shape=[dim_1, ..., dim_{n-1}, dim_n]\n",
        "    output: shape=[dim_1, ..., dim_{n-1}]\n",
        "    \"\"\"\n",
        "    def call(self, inputs, **kwargs):\n",
        "        return K.sqrt(K.sum(K.square(inputs), -1))\n",
        "\n",
        "    def compute_output_shape(self, input_shape):\n",
        "        return input_shape[:-1]\n",
        "\n",
        "class Mask(layers.Layer):\n",
        "    \"\"\"\n",
        "    Mask a Tensor with shape=[None, d1, d2] by the max value in axis=1.\n",
        "    Output shape: [None, d2]\n",
        "    \"\"\"\n",
        "    def call(self, inputs, **kwargs):\n",
        "        # use true label to select target capsule, shape=[batch_size, num_capsule]\n",
        "        if type(inputs) is list:  # true label is provided with shape = [batch_size, n_classes], i.e. one-hot code.\n",
        "            assert len(inputs) == 2\n",
        "            inputs, mask = inputs\n",
        "        else:  # if no true label, mask by the max length of vectors of capsules\n",
        "            x = inputs\n",
        "            # Enlarge the range of values in x to make max(new_x)=1 and others < 0\n",
        "            x = (x - K.max(x, 1, True)) / K.epsilon() + 1\n",
        "            mask = K.clip(x, 0, 1)  # the max value in x clipped to 1 and other to 0\n",
        "\n",
        "        # masked inputs, shape = [batch_size, dim_vector]\n",
        "        inputs_masked = K.batch_dot(inputs, mask, [1, 1])\n",
        "        return inputs_masked\n",
        "\n",
        "    def compute_output_shape(self, input_shape):\n",
        "        if type(input_shape[0]) is tuple:  # true label provided\n",
        "            return tuple([None, input_shape[0][-1]])\n",
        "        else:\n",
        "            return tuple([None, input_shape[-1]])\n",
        "\n",
        "\n",
        "def squash(vectors, axis=-1):\n",
        "    \"\"\"\n",
        "    The non-linear activation used in Capsule. It drives the length of a large vector to near 1 and small vector to 0\n",
        "    :param vectors: some vectors to be squashed, N-dim tensor\n",
        "    :param axis: the axis to squash\n",
        "    :return: a Tensor with same shape as input vectors\n",
        "    \"\"\"\n",
        "    s_squared_norm = K.sum(K.square(vectors), axis, keepdims=True)\n",
        "    scale = s_squared_norm / (1 + s_squared_norm) / K.sqrt(s_squared_norm)\n",
        "    return scale * vectors\n",
        "\n",
        "\n",
        "class CapsuleLayer(layers.Layer):\n",
        "    \"\"\"\n",
        "    The capsule layer. It is similar to Dense layer. Dense layer has `in_num` inputs, each is a scalar, the output of the \n",
        "    neuron from the former layer, and it has `out_num` output neurons. CapsuleLayer just expand the output of the neuron\n",
        "    from scalar to vector. So its input shape = [None, input_num_capsule, input_dim_vector] and output shape = \\\n",
        "    [None, num_capsule, dim_vector]. For Dense Layer, input_dim_vector = dim_vector = 1.\n",
        "    \n",
        "    :param num_capsule: number of capsules in this layer\n",
        "    :param dim_vector: dimension of the output vectors of the capsules in this layer\n",
        "    :param num_routings: number of iterations for the routing algorithm\n",
        "    \"\"\"\n",
        "    def __init__(self, num_capsule, dim_vector, num_routing=3,\n",
        "                 kernel_initializer='glorot_uniform',\n",
        "                 bias_initializer='zeros',\n",
        "                 **kwargs):\n",
        "        super(CapsuleLayer, self).__init__(**kwargs)\n",
        "        self.num_capsule = num_capsule\n",
        "        self.dim_vector = dim_vector\n",
        "        self.num_routing = num_routing\n",
        "        self.kernel_initializer = initializers.get(kernel_initializer)\n",
        "        self.bias_initializer = initializers.get(bias_initializer)\n",
        "\n",
        "    def build(self, input_shape):\n",
        "        assert len(input_shape) >= 3, \"The input Tensor should have shape=[None, input_num_capsule, input_dim_vector]\"\n",
        "        self.input_num_capsule = input_shape[1]\n",
        "        self.input_dim_vector = input_shape[2]\n",
        "\n",
        "        # Transformation matrix/Weight matrix\n",
        "        self.W = self.add_weight(shape=[self.input_num_capsule, self.num_capsule, self.input_dim_vector, self.dim_vector],\n",
        "                                 initializer=self.kernel_initializer,\n",
        "                                 name='W')\n",
        "\n",
        "        # Coupling coefficient. The redundant dimensions are just to facilitate subsequent matrix calculation.\n",
        "        self.bias = self.add_weight(shape=[1, self.input_num_capsule, self.num_capsule, 1, 1],\n",
        "                                    initializer=self.bias_initializer,\n",
        "                                    name='bias',\n",
        "                                    trainable=False)\n",
        "        self.built = True\n",
        "\n",
        "    def call(self, inputs, training=None):\n",
        "        # inputs.shape=[None, input_num_capsule, input_dim_vector]\n",
        "        # Expand dims to [None, input_num_capsule, 1, 1, input_dim_vector]\n",
        "        inputs_expand = K.expand_dims(K.expand_dims(inputs, 2), 2)\n",
        "\n",
        "        # Replicate(tile) num_capsule dimension to prepare being multiplied by W\n",
        "        # Now it has shape = [None, input_num_capsule, num_capsule, 1, input_dim_vector]\n",
        "        inputs_tiled = K.tile(inputs_expand, [1, 1, self.num_capsule, 1, 1])\n",
        "\n",
        "        \"\"\"  \n",
        "        # Compute `inputs * W` by expanding the first dim of W. More time-consuming and need batch_size.\n",
        "        # Now W has shape  = [batch_size, input_num_capsule, num_capsule, input_dim_vector, dim_vector]\n",
        "        w_tiled = K.tile(K.expand_dims(self.W, 0), [self.batch_size, 1, 1, 1, 1])\n",
        "        \n",
        "        # Transformed vectors, inputs_hat.shape = [None, input_num_capsule, num_capsule, 1, dim_vector]\n",
        "        inputs_hat = K.batch_dot(inputs_tiled, w_tiled, [4, 3])\n",
        "        \"\"\"\n",
        "        \n",
        "        # inputs_hat.shape = [None, input_num_capsule, num_capsule, 1, dim_vector]\n",
        "        inputs_hat = tf.scan(lambda ac, x: K.batch_dot(x, self.W, [3, 2]),\n",
        "                             elems=inputs_tiled,\n",
        "                             initializer=K.zeros([self.input_num_capsule, self.num_capsule, 1, self.dim_vector]))\n",
        "\n",
        "        # DYNAMIC ROUTING\n",
        "        assert self.num_routing > 0, 'The num_routing should be > 0.'\n",
        "        for i in range(self.num_routing):\n",
        "            c = tf.nn.softmax(self.bias, dim=2)  # dim=2 is the num_capsule dimension\n",
        "            outputs = squash(K.sum(c * inputs_hat, 1, keepdims=True))\n",
        "\n",
        "            # last iteration needs not compute bias which will not be passed to the graph any more anyway.\n",
        "            if i != self.num_routing - 1:\n",
        "                # update the raw weights for the next routing iteration\n",
        "                # by adding the agreement to the previous raw weights\n",
        "                self.bias += K.sum(inputs_hat * outputs, -1, keepdims=True)\n",
        "\n",
        "        return K.reshape(outputs, [-1, self.num_capsule, self.dim_vector])\n",
        "\n",
        "    def compute_output_shape(self, input_shape):\n",
        "        return tuple([None, self.num_capsule, self.dim_vector])\n",
        "\n",
        "\n",
        "def PrimaryCap(inputs, dim_vector, n_channels, kernel_size, strides, padding):\n",
        "    \"\"\"\n",
        "    Apply Conv2D `n_channels` times and concatenate all capsules\n",
        "    :param inputs: 4D tensor, shape=[None, width, height, channels]\n",
        "    :param dim_vector: the dim of the output vector of capsule\n",
        "    :param n_channels: the number of types of capsules\n",
        "    :return: output tensor, shape=[None, num_capsule, dim_vector]\n",
        "    \"\"\"\n",
        "    output = layers.Conv2D(filters=dim_vector*n_channels, kernel_size=kernel_size, strides=strides, padding=padding, name='primary_caps_conv')(inputs)\n",
        "    outputs = layers.Reshape(target_shape=[-1, dim_vector], name='primary_caps_reshape')(output)\n",
        "    return layers.Lambda(squash)(outputs)"
      ],
      "execution_count": 0,
      "outputs": []
    },
    {
      "cell_type": "markdown",
      "metadata": {
        "id": "FvrsBMdIn80n",
        "colab_type": "text"
      },
      "source": [
        "# Build the network"
      ]
    },
    {
      "cell_type": "markdown",
      "metadata": {
        "id": "UQA2r91loBEz",
        "colab_type": "text"
      },
      "source": [
        "Build the required capsnet architecture using the layers defined above"
      ]
    },
    {
      "cell_type": "code",
      "metadata": {
        "id": "_WIfQz-he-QV",
        "colab_type": "code",
        "colab": {}
      },
      "source": [
        "from keras import layers, models\n",
        "from keras import backend as K\n",
        "from keras.utils import to_categorical\n",
        "def CapsNet(input_shape, n_class, num_routing):\n",
        "    \"\"\"\n",
        "    A Capsule Network on MNIST.\n",
        "    :param input_shape: data shape, 4d, [None, width, height, channels]\n",
        "    :param n_class: number of classes\n",
        "    :param num_routing: number of routing iterations\n",
        "    :return: A Keras Model with 2 inputs and 2 outputs\n",
        "    \"\"\"\n",
        "    x = layers.Input(shape=input_shape)\n",
        "\n",
        "    # Changes:\n",
        "    # Added conv layer before feeding to primary caps layer, with 256 kernels\n",
        "\n",
        "    # Layer 1: Conventional Conv2D layer 1\n",
        "    conv1 = layers.Conv2D(filters=256, kernel_size=9, strides=1, padding='valid', activation='relu', name='conv1')(x)\n",
        "\n",
        "    # Layer 2: Conventional Conv2D layer 2\n",
        "    conv2 = layers.Conv2D(filters=256, kernel_size=9, strides=1, padding='valid', activation='relu', name='conv2')(conv1)\n",
        "\n",
        "    # Layer 3: Conv2D layer with `squash` activation, then reshape to [None, num_capsule, dim_vector]\n",
        "    primarycaps = PrimaryCap(conv2, dim_vector=8, n_channels=32, kernel_size=9, strides=2, padding='valid')\n",
        "\n",
        "    # Layer 4: Capsule layer. Dynamic Routing algorithm works here.\n",
        "    digitcaps = CapsuleLayer(num_capsule=n_class, dim_vector=16, num_routing=num_routing, name='digit_caps')(primarycaps)\n",
        "\n",
        "    # Layer 5: This is an auxiliary layer to replace each capsule with its length. Just to match the true label's shape.\n",
        "    out_caps = Length(name='out_caps')(digitcaps)\n",
        "\n",
        "    # Decoder network.\n",
        "    y = layers.Input(shape=(n_class,))\n",
        "    masked = Mask()([digitcaps, y])  # The true label is used to mask the output of capsule layer.\n",
        "    x_recon = layers.Dense(512, activation='relu')(masked)\n",
        "    x_recon = layers.Dense(1024, activation='relu')(x_recon)\n",
        "    x_recon = layers.Dense(784, activation='sigmoid')(x_recon)\n",
        "    x_recon = layers.Reshape(target_shape=[28, 28, 1], name='out_recon')(x_recon)\n",
        "\n",
        "    # two-input-two-output keras Model\n",
        "    return models.Model([x, y], [out_caps, x_recon])"
      ],
      "execution_count": 0,
      "outputs": []
    },
    {
      "cell_type": "markdown",
      "metadata": {
        "id": "nsxENo88YZKK",
        "colab_type": "text"
      },
      "source": [
        "# Margin Loss"
      ]
    },
    {
      "cell_type": "markdown",
      "metadata": {
        "id": "DRijpVi5YckD",
        "colab_type": "text"
      },
      "source": [
        "Use custom margin loss as proposed in the original paper for gradient updates"
      ]
    },
    {
      "cell_type": "code",
      "metadata": {
        "id": "fLYuY3MgfFxn",
        "colab_type": "code",
        "colab": {}
      },
      "source": [
        "def margin_loss(y_true, y_pred):\n",
        "    \"\"\"\n",
        "    Margin loss for Eq.(4). When y_true[i, :] contains not just one `1`, this loss should work too. Not test it.\n",
        "    :param y_true: [None, n_classes]\n",
        "    :param y_pred: [None, num_capsule]\n",
        "    :return: a scalar loss value.\n",
        "    \"\"\"\n",
        "    L = y_true * K.square(K.maximum(0., 0.9 - y_pred)) + \\\n",
        "        0.5 * (1 - y_true) * K.square(K.maximum(0., y_pred - 0.1))\n",
        "\n",
        "    return K.mean(K.sum(L, 1))"
      ],
      "execution_count": 0,
      "outputs": []
    },
    {
      "cell_type": "code",
      "metadata": {
        "id": "wlYJ0LiTfJni",
        "colab_type": "code",
        "outputId": "59847d23-7042-469d-bcd2-b1643b4305de",
        "colab": {
          "base_uri": "https://localhost:8080/",
          "height": 671
        }
      },
      "source": [
        "num_classes = 10\n",
        "routings = 3\n",
        "\n",
        "# define model\n",
        "model = CapsNet(input_shape=[28, 28, 1],\n",
        "                n_class=num_classes,\n",
        "                num_routing=routings)\n",
        "model.summary()\n",
        "\n",
        "try:\n",
        "    plot_model(model, to_file='model.png', show_shapes=True)\n",
        "except Exception as e:\n",
        "    print('No fancy plot {}'.format(e))"
      ],
      "execution_count": 32,
      "outputs": [
        {
          "output_type": "stream",
          "text": [
            "__________________________________________________________________________________________________\n",
            "Layer (type)                    Output Shape         Param #     Connected to                     \n",
            "==================================================================================================\n",
            "input_11 (InputLayer)           (None, 28, 28, 1)    0                                            \n",
            "__________________________________________________________________________________________________\n",
            "conv1 (Conv2D)                  (None, 20, 20, 256)  20992       input_11[0][0]                   \n",
            "__________________________________________________________________________________________________\n",
            "conv2 (Conv2D)                  (None, 12, 12, 256)  5308672     conv1[0][0]                      \n",
            "__________________________________________________________________________________________________\n",
            "primary_caps_conv (Conv2D)      (None, 2, 2, 256)    5308672     conv2[0][0]                      \n",
            "__________________________________________________________________________________________________\n",
            "primary_caps_reshape (Reshape)  (None, 128, 8)       0           primary_caps_conv[0][0]          \n",
            "__________________________________________________________________________________________________\n",
            "lambda_6 (Lambda)               (None, 128, 8)       0           primary_caps_reshape[0][0]       \n",
            "__________________________________________________________________________________________________\n",
            "digit_caps (CapsuleLayer)       (None, 10, 16)       165120      lambda_6[0][0]                   \n",
            "__________________________________________________________________________________________________\n",
            "input_12 (InputLayer)           (None, 10)           0                                            \n",
            "__________________________________________________________________________________________________\n",
            "mask_6 (Mask)                   (None, 16)           0           digit_caps[0][0]                 \n",
            "                                                                 input_12[0][0]                   \n",
            "__________________________________________________________________________________________________\n",
            "dense_16 (Dense)                (None, 512)          8704        mask_6[0][0]                     \n",
            "__________________________________________________________________________________________________\n",
            "dense_17 (Dense)                (None, 1024)         525312      dense_16[0][0]                   \n",
            "__________________________________________________________________________________________________\n",
            "dense_18 (Dense)                (None, 784)          803600      dense_17[0][0]                   \n",
            "__________________________________________________________________________________________________\n",
            "out_caps (Length)               (None, 10)           0           digit_caps[0][0]                 \n",
            "__________________________________________________________________________________________________\n",
            "out_recon (Reshape)             (None, 28, 28, 1)    0           dense_18[0][0]                   \n",
            "==================================================================================================\n",
            "Total params: 12,141,072\n",
            "Trainable params: 12,139,792\n",
            "Non-trainable params: 1,280\n",
            "__________________________________________________________________________________________________\n"
          ],
          "name": "stdout"
        }
      ]
    },
    {
      "cell_type": "markdown",
      "metadata": {
        "id": "fEFuUJzGw0UB",
        "colab_type": "text"
      },
      "source": [
        "# Load Data"
      ]
    },
    {
      "cell_type": "code",
      "metadata": {
        "id": "8HOKZDPzfMWQ",
        "colab_type": "code",
        "outputId": "e77c1921-683e-4088-c83e-c451500959ef",
        "colab": {
          "base_uri": "https://localhost:8080/",
          "height": 35
        }
      },
      "source": [
        "import tensorflow as tf\n",
        "(train_images, train_labels), (test_images, test_labels) = tf.keras.datasets.mnist.load_data()\n",
        "print(train_images.shape)\n",
        "\n",
        "val_images = train_images[50000:]\n",
        "val_labels = train_labels[50000:]\n",
        "\n",
        "train_images = train_images[:50000]\n",
        "train_labels = train_labels[:50000]"
      ],
      "execution_count": 33,
      "outputs": [
        {
          "output_type": "stream",
          "text": [
            "(60000, 28, 28)\n"
          ],
          "name": "stdout"
        }
      ]
    },
    {
      "cell_type": "code",
      "metadata": {
        "id": "26_ToTnYftDL",
        "colab_type": "code",
        "colab": {}
      },
      "source": [
        "train_images = train_images.reshape((-1, 28, 28, 1)).astype('float32') / 255.\n",
        "test_images = test_images.reshape((-1, 28, 28, 1)).astype('float32') / 255.\n",
        "val_images = val_images.reshape((-1, 28, 28, 1)).astype('float32') / 255.\n",
        "\n",
        "train_labels = to_categorical(train_labels.astype('float32'))\n",
        "test_labels = to_categorical(test_labels.astype('float32'))\n",
        "val_labels = to_categorical(val_labels.astype('float32'))"
      ],
      "execution_count": 0,
      "outputs": []
    },
    {
      "cell_type": "code",
      "metadata": {
        "id": "sM6rKK8fgJlE",
        "colab_type": "code",
        "outputId": "cf78b6aa-c8a6-41d6-998d-2d0b6c631b64",
        "colab": {
          "base_uri": "https://localhost:8080/",
          "height": 126
        }
      },
      "source": [
        "print(train_images.shape)\n",
        "print(type(train_images))\n",
        "print(test_images.shape)\n",
        "print(type(test_images))\n",
        "print(val_images.shape)\n",
        "print(type(val_images))\n",
        "\n",
        "x_train = train_images\n",
        "y_train = train_labels\n",
        "\n",
        "x_val = val_images\n",
        "y_val = val_labels\n",
        "\n",
        "x_test = test_images\n",
        "y_test = test_labels"
      ],
      "execution_count": 35,
      "outputs": [
        {
          "output_type": "stream",
          "text": [
            "(50000, 28, 28, 1)\n",
            "<class 'numpy.ndarray'>\n",
            "(10000, 28, 28, 1)\n",
            "<class 'numpy.ndarray'>\n",
            "(10000, 28, 28, 1)\n",
            "<class 'numpy.ndarray'>\n"
          ],
          "name": "stdout"
        }
      ]
    },
    {
      "cell_type": "markdown",
      "metadata": {
        "id": "D-PE16c1w5_W",
        "colab_type": "text"
      },
      "source": [
        "# Train the network"
      ]
    },
    {
      "cell_type": "code",
      "metadata": {
        "id": "0ut3ma9Uj6i3",
        "colab_type": "code",
        "colab": {}
      },
      "source": [
        "batch_size = 128\n",
        "epochs = 15"
      ],
      "execution_count": 0,
      "outputs": []
    },
    {
      "cell_type": "code",
      "metadata": {
        "id": "x9W7qa3phJ5G",
        "colab_type": "code",
        "colab": {}
      },
      "source": [
        "def train(model, data, epoch_size_frac=1.0):\n",
        "    \"\"\"\n",
        "    Training a CapsuleNet\n",
        "    :param model: the CapsuleNet model\n",
        "    :param data: a tuple containing training and testing data, like `((x_train, y_train), (x_test, y_test))`\n",
        "    :param args: arguments\n",
        "    :return: The trained model\n",
        "    \"\"\"\n",
        "    # unpacking the data\n",
        "    (x_train, y_train), (x_val, y_val) = data\n",
        "\n",
        "    # callbacks\n",
        "    log = callbacks.CSVLogger('log.csv')\n",
        "    checkpoint = callbacks.ModelCheckpoint('weights-{epoch:02d}.h5', save_best_only=True, save_weights_only=True, verbose=1)\n",
        "    lr_decay = callbacks.LearningRateScheduler(schedule=lambda epoch: 0.001 * np.exp(-epoch / 10.))\n",
        "\n",
        "    # compile the model\n",
        "    model.compile(optimizer='adam',\n",
        "                  loss=[margin_loss, 'mse'],\n",
        "                  loss_weights=[1., 0.0005],\n",
        "                  metrics={'out_caps': 'accuracy'})\n",
        "\n",
        "    # Training without data augmentation:\n",
        "    history = model.fit([x_train, y_train], [y_train, x_train], batch_size=batch_size, epochs=epochs,\n",
        "              validation_data=[[x_val, y_val], [y_val, x_val]], callbacks=[lr_decay, checkpoint, log])\n",
        "\n",
        "    model.save_weights('trained_model.h5')\n",
        "    print('Trained model saved to \\'trained_model.h5\\'')\n",
        "\n",
        "    return model"
      ],
      "execution_count": 0,
      "outputs": []
    },
    {
      "cell_type": "code",
      "metadata": {
        "id": "0otqEo0qidyg",
        "colab_type": "code",
        "outputId": "8ca879d9-ec74-4942-b8f6-4954f054793a",
        "colab": {
          "base_uri": "https://localhost:8080/",
          "height": 1000
        }
      },
      "source": [
        "train(model=model, data=((x_train, y_train), (x_val, y_val)))"
      ],
      "execution_count": 38,
      "outputs": [
        {
          "output_type": "stream",
          "text": [
            "Train on 50000 samples, validate on 10000 samples\n",
            "Epoch 1/15\n",
            "50000/50000 [==============================] - 105s 2ms/step - loss: 0.1367 - out_caps_loss: 0.1366 - out_recon_loss: 0.1498 - out_caps_acc: 0.8290 - val_loss: 0.0149 - val_out_caps_loss: 0.0149 - val_out_recon_loss: 0.0666 - val_out_caps_acc: 0.9842\n",
            "\n",
            "Epoch 00001: val_loss improved from inf to 0.01494, saving model to weights-01.h5\n",
            "Epoch 2/15\n",
            "50000/50000 [==============================] - 100s 2ms/step - loss: 0.0108 - out_caps_loss: 0.0108 - out_recon_loss: 0.0666 - out_caps_acc: 0.9883 - val_loss: 0.0089 - val_out_caps_loss: 0.0089 - val_out_recon_loss: 0.0651 - val_out_caps_acc: 0.9907\n",
            "\n",
            "Epoch 00002: val_loss improved from 0.01494 to 0.00894, saving model to weights-02.h5\n",
            "Epoch 3/15\n",
            "50000/50000 [==============================] - 100s 2ms/step - loss: 0.0066 - out_caps_loss: 0.0065 - out_recon_loss: 0.0651 - out_caps_acc: 0.9929 - val_loss: 0.0073 - val_out_caps_loss: 0.0073 - val_out_recon_loss: 0.0632 - val_out_caps_acc: 0.9911\n",
            "\n",
            "Epoch 00003: val_loss improved from 0.00894 to 0.00734, saving model to weights-03.h5\n",
            "Epoch 4/15\n",
            "50000/50000 [==============================] - 100s 2ms/step - loss: 0.0044 - out_caps_loss: 0.0044 - out_recon_loss: 0.0628 - out_caps_acc: 0.9955 - val_loss: 0.0076 - val_out_caps_loss: 0.0075 - val_out_recon_loss: 0.0605 - val_out_caps_acc: 0.9916\n",
            "\n",
            "Epoch 00004: val_loss did not improve from 0.00734\n",
            "Epoch 5/15\n",
            "50000/50000 [==============================] - 99s 2ms/step - loss: 0.0031 - out_caps_loss: 0.0031 - out_recon_loss: 0.0605 - out_caps_acc: 0.9969 - val_loss: 0.0066 - val_out_caps_loss: 0.0066 - val_out_recon_loss: 0.0585 - val_out_caps_acc: 0.9920\n",
            "\n",
            "Epoch 00005: val_loss improved from 0.00734 to 0.00663, saving model to weights-05.h5\n",
            "Epoch 6/15\n",
            "50000/50000 [==============================] - 99s 2ms/step - loss: 0.0024 - out_caps_loss: 0.0024 - out_recon_loss: 0.0590 - out_caps_acc: 0.9977 - val_loss: 0.0059 - val_out_caps_loss: 0.0058 - val_out_recon_loss: 0.0571 - val_out_caps_acc: 0.9934\n",
            "\n",
            "Epoch 00006: val_loss improved from 0.00663 to 0.00586, saving model to weights-06.h5\n",
            "Epoch 7/15\n",
            "50000/50000 [==============================] - 100s 2ms/step - loss: 0.0017 - out_caps_loss: 0.0016 - out_recon_loss: 0.0579 - out_caps_acc: 0.9984 - val_loss: 0.0060 - val_out_caps_loss: 0.0059 - val_out_recon_loss: 0.0562 - val_out_caps_acc: 0.9934\n",
            "\n",
            "Epoch 00007: val_loss did not improve from 0.00586\n",
            "Epoch 8/15\n",
            "50000/50000 [==============================] - 99s 2ms/step - loss: 0.0011 - out_caps_loss: 0.0011 - out_recon_loss: 0.0570 - out_caps_acc: 0.9990 - val_loss: 0.0057 - val_out_caps_loss: 0.0056 - val_out_recon_loss: 0.0553 - val_out_caps_acc: 0.9938\n",
            "\n",
            "Epoch 00008: val_loss improved from 0.00586 to 0.00566, saving model to weights-08.h5\n",
            "Epoch 9/15\n",
            "50000/50000 [==============================] - 99s 2ms/step - loss: 6.4026e-04 - out_caps_loss: 6.1210e-04 - out_recon_loss: 0.0563 - out_caps_acc: 0.9995 - val_loss: 0.0053 - val_out_caps_loss: 0.0053 - val_out_recon_loss: 0.0546 - val_out_caps_acc: 0.9941\n",
            "\n",
            "Epoch 00009: val_loss improved from 0.00566 to 0.00531, saving model to weights-09.h5\n",
            "Epoch 10/15\n",
            "50000/50000 [==============================] - 100s 2ms/step - loss: 4.7706e-04 - out_caps_loss: 4.4918e-04 - out_recon_loss: 0.0558 - out_caps_acc: 0.9996 - val_loss: 0.0057 - val_out_caps_loss: 0.0057 - val_out_recon_loss: 0.0541 - val_out_caps_acc: 0.9933\n",
            "\n",
            "Epoch 00010: val_loss did not improve from 0.00531\n",
            "Epoch 11/15\n",
            "50000/50000 [==============================] - 100s 2ms/step - loss: 3.2674e-04 - out_caps_loss: 2.9907e-04 - out_recon_loss: 0.0553 - out_caps_acc: 0.9997 - val_loss: 0.0057 - val_out_caps_loss: 0.0057 - val_out_recon_loss: 0.0537 - val_out_caps_acc: 0.9933\n",
            "\n",
            "Epoch 00011: val_loss did not improve from 0.00531\n",
            "Epoch 12/15\n",
            "50000/50000 [==============================] - 100s 2ms/step - loss: 4.6791e-04 - out_caps_loss: 4.4040e-04 - out_recon_loss: 0.0550 - out_caps_acc: 0.9995 - val_loss: 0.0055 - val_out_caps_loss: 0.0055 - val_out_recon_loss: 0.0534 - val_out_caps_acc: 0.9942\n",
            "\n",
            "Epoch 00012: val_loss did not improve from 0.00531\n",
            "Epoch 13/15\n",
            "50000/50000 [==============================] - 99s 2ms/step - loss: 2.2592e-04 - out_caps_loss: 1.9851e-04 - out_recon_loss: 0.0548 - out_caps_acc: 0.9998 - val_loss: 0.0056 - val_out_caps_loss: 0.0055 - val_out_recon_loss: 0.0532 - val_out_caps_acc: 0.9937\n",
            "\n",
            "Epoch 00013: val_loss did not improve from 0.00531\n",
            "Epoch 14/15\n",
            "50000/50000 [==============================] - 99s 2ms/step - loss: 1.1172e-04 - out_caps_loss: 8.4388e-05 - out_recon_loss: 0.0547 - out_caps_acc: 0.9999 - val_loss: 0.0055 - val_out_caps_loss: 0.0055 - val_out_recon_loss: 0.0531 - val_out_caps_acc: 0.9935\n",
            "\n",
            "Epoch 00014: val_loss did not improve from 0.00531\n",
            "Epoch 15/15\n",
            "50000/50000 [==============================] - 99s 2ms/step - loss: 8.4471e-05 - out_caps_loss: 5.7196e-05 - out_recon_loss: 0.0545 - out_caps_acc: 0.9999 - val_loss: 0.0053 - val_out_caps_loss: 0.0052 - val_out_recon_loss: 0.0530 - val_out_caps_acc: 0.9938\n",
            "\n",
            "Epoch 00015: val_loss improved from 0.00531 to 0.00527, saving model to weights-15.h5\n",
            "Trained model saved to 'trained_model.h5'\n"
          ],
          "name": "stdout"
        },
        {
          "output_type": "execute_result",
          "data": {
            "text/plain": [
              "<keras.engine.training.Model at 0x7f85165559e8>"
            ]
          },
          "metadata": {
            "tags": []
          },
          "execution_count": 38
        }
      ]
    },
    {
      "cell_type": "markdown",
      "metadata": {
        "id": "jv8mNokGxBji",
        "colab_type": "text"
      },
      "source": [
        "# Visualisation"
      ]
    },
    {
      "cell_type": "code",
      "metadata": {
        "id": "MlkzUlXYa6nI",
        "colab_type": "code",
        "colab": {}
      },
      "source": [
        "# from IPython.display import Image\n",
        "# Image('model.png', width=750, height=750)"
      ],
      "execution_count": 0,
      "outputs": []
    },
    {
      "cell_type": "code",
      "metadata": {
        "id": "CL3GpuHubJRn",
        "colab_type": "code",
        "outputId": "48b68b9c-063f-4d81-da71-8b1941b265c7",
        "colab": {
          "base_uri": "https://localhost:8080/",
          "height": 90
        }
      },
      "source": [
        "import pandas as pd\n",
        "pd.set_option('display.max_columns', None)\n",
        "\n",
        "df = pd.read_csv('log.csv')\n",
        "print(df.columns)"
      ],
      "execution_count": 39,
      "outputs": [
        {
          "output_type": "stream",
          "text": [
            "Index(['epoch', 'loss', 'lr', 'out_caps_acc', 'out_caps_loss',\n",
            "       'out_recon_loss', 'val_loss', 'val_out_caps_acc', 'val_out_caps_loss',\n",
            "       'val_out_recon_loss'],\n",
            "      dtype='object')\n"
          ],
          "name": "stdout"
        }
      ]
    },
    {
      "cell_type": "markdown",
      "metadata": {
        "id": "P4RSza3V_Zkz",
        "colab_type": "text"
      },
      "source": [
        "Filter the values to visualise"
      ]
    },
    {
      "cell_type": "code",
      "metadata": {
        "id": "CUkSd-XZzTjF",
        "colab_type": "code",
        "colab": {}
      },
      "source": [
        "# loss\n",
        "loss = df['loss'].to_list()\n",
        "val_loss = df['val_loss'].to_list()\n",
        "\n",
        "# Break-down the losses into components\n",
        "out_caps_loss = df['out_caps_loss'].to_list()\n",
        "val_out_caps_loss = df['val_out_caps_loss'].to_list()\n",
        "\n",
        "out_recon_loss = df['out_recon_loss'].to_list()\n",
        "val_out_recon_loss = df['val_out_recon_loss'].to_list()\n",
        "\n",
        "# accuracy\n",
        "out_caps_acc = df['out_caps_acc'].to_list()\n",
        "val_out_caps_acc = df['val_out_caps_acc'].to_list()"
      ],
      "execution_count": 0,
      "outputs": []
    },
    {
      "cell_type": "markdown",
      "metadata": {
        "id": "IhX_ubGR_fkg",
        "colab_type": "text"
      },
      "source": [
        "Configure plotting tool(here: matplotlib)"
      ]
    },
    {
      "cell_type": "code",
      "metadata": {
        "id": "MXJiEghV5nxi",
        "colab_type": "code",
        "colab": {}
      },
      "source": [
        "import matplotlib.pyplot as plt\n",
        "from pylab import rcParams\n",
        "rcParams['figure.figsize'] = 5, 10\n",
        "plt.style.use('fivethirtyeight')\n",
        "plt.rc('grid', color='k', linestyle='--')\n",
        "plt.rc('xtick', direction='out', color='black')\n",
        "plt.rc('ytick', direction='out', color='black')\n",
        "plt.rc('axes', facecolor='#E6E6E6', edgecolor='gray', axisbelow=True, grid=True)"
      ],
      "execution_count": 0,
      "outputs": []
    },
    {
      "cell_type": "markdown",
      "metadata": {
        "id": "ojk1f2Me_ol8",
        "colab_type": "text"
      },
      "source": [
        "Plot the concerned values"
      ]
    },
    {
      "cell_type": "code",
      "metadata": {
        "id": "yzXrL6YY77X_",
        "colab_type": "code",
        "outputId": "a5cf474a-7af2-4b5b-9538-7c43bfadec42",
        "colab": {
          "base_uri": "https://localhost:8080/",
          "height": 1000
        }
      },
      "source": [
        "epochs = range(len(loss))\n",
        "\n",
        "params = {'left' : 1,\n",
        "          'right' : 3,\n",
        "          'bottom' : 1,\n",
        "          'top' : 3, \n",
        "          'wspace' : 1,                        \n",
        "          'hspace' : 0.2}\n",
        "              \n",
        "plt.subplots_adjust(**params)\n",
        "\n",
        "# Plot retrieved data : accuracy\n",
        "plt.subplot(221)\n",
        "plt.plot(epochs, out_caps_acc)\n",
        "plt.plot(epochs, val_out_caps_acc)\n",
        "plt.title(\"Training and Validation Accuracy\")\n",
        "\n",
        "# Plot retrieved data : loss\n",
        "plt.subplot(222)\n",
        "plt.plot(epochs, loss)\n",
        "plt.plot(epochs, val_loss)\n",
        "plt.title(\"Training and Validation Loss\")\n",
        "\n",
        "# Plot retrieved data : capsule loss\n",
        "plt.subplot(223)\n",
        "plt.plot(epochs, out_caps_loss)\n",
        "plt.plot(epochs, val_out_caps_loss)\n",
        "plt.title(\"Training and Validation Capsule Loss\")\n",
        "\n",
        "# Plot retrieved data : capsule loss\n",
        "plt.subplot(224)\n",
        "plt.plot(epochs, out_recon_loss)\n",
        "plt.plot(epochs, val_out_recon_loss)\n",
        "plt.title(\"Training and Validation Reconstruction Loss\")"
      ],
      "execution_count": 46,
      "outputs": [
        {
          "output_type": "execute_result",
          "data": {
            "text/plain": [
              "Text(0.5, 1.0, 'Training and Validation Reconstruction Loss')"
            ]
          },
          "metadata": {
            "tags": []
          },
          "execution_count": 46
        },
        {
          "output_type": "display_data",
          "data": {
            "image/png": "[encoded data removed]",
            "text/plain": [
              "<Figure size 360x720 with 4 Axes>"
            ]
          },
          "metadata": {
            "tags": []
          }
        }
      ]
    },
    {
      "cell_type": "code",
      "metadata": {
        "id": "OaU6iMvC_rM2",
        "colab_type": "code",
        "colab": {}
      },
      "source": [
        ""
      ],
      "execution_count": 0,
      "outputs": []
    }
  ]
}